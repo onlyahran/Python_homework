{
 "cells": [
  {
   "cell_type": "markdown",
   "metadata": {},
   "source": [
    "### HW1 문제 4"
   ]
  },
  {
   "cell_type": "code",
   "execution_count": null,
   "metadata": {},
   "outputs": [],
   "source": [
    "a, b = input('Enter two integers :').split()\n",
    "a = int(a)\n",
    "b = int(b)\n",
    "print('The sum of %d and %d is %d' %(a, b, a + b))\n",
    "print('The average of numbers is %.1f' %((a + b)/2))"
   ]
  },
  {
   "cell_type": "markdown",
   "metadata": {},
   "source": [
    "### HW1문제 5"
   ]
  },
  {
   "cell_type": "code",
   "execution_count": null,
   "metadata": {},
   "outputs": [],
   "source": [
    "a, b = input('Enter two integers :').split()\n",
    "a = int(a)\n",
    "b = int(b)\n",
    "print('%d + %d = %d' %(a, b, a+b))\n",
    "print('%d - %d = %d' %(a, b, a-b))\n",
    "print('%d * %d = %d' %(a, b, a*b))\n",
    "print('%d / %d = %d' %(a, b, a/b))\n",
    "print('%d %% %d = %d' %(a, b, a%b))"
   ]
  },
  {
   "cell_type": "markdown",
   "metadata": {},
   "source": [
    "### HW1 문제 6"
   ]
  },
  {
   "cell_type": "code",
   "execution_count": null,
   "metadata": {},
   "outputs": [],
   "source": [
    "year, month, date = list(map(int, input('날짜(연/월/일) 입력:').split('/')))\n",
    "print(\"입력한 날짜의 10년 후는 %d년 %d월 %d일\" % (year+10, month, date))"
   ]
  },
  {
   "cell_type": "markdown",
   "metadata": {},
   "source": [
    "## 1. 조건문(if)\n",
    "### 문제 1"
   ]
  },
  {
   "cell_type": "code",
   "execution_count": null,
   "metadata": {},
   "outputs": [],
   "source": [
    "num = input(\"Enter a number:\")\n",
    "if int(num) % 2 == 0:\n",
    "    print(\"%d is Even number\" % int(num))\n",
    "else:\n",
    "    print(\"%d is Odd number\" % int(num))"
   ]
  },
  {
   "cell_type": "markdown",
   "metadata": {},
   "source": [
    "### 문제2"
   ]
  },
  {
   "cell_type": "code",
   "execution_count": null,
   "metadata": {},
   "outputs": [],
   "source": [
    "mid = int(input(\"Enter your midterm score:\"))\n",
    "fin = int(input(\"Enter your final score:\"))\n",
    "Avg = (mid + fin) / 2\n",
    "Gra = ''\n",
    "if Avg >= 90 :\n",
    "    Gra = 'A'\n",
    "elif Avg >= 80 and Avg < 90 :\n",
    "    Gra = 'B'\n",
    "elif Avg >= 70 and Avg < 80:\n",
    "    Gra = 'C'\n",
    "elif Avg >= 60 and Avg < 70:\n",
    "    Gra = 'D'\n",
    "else:\n",
    "    Gra = 'F'\n",
    "print('Average : %.1f' % Avg)\n",
    "print('Grade : %s' % Gra)"
   ]
  },
  {
   "cell_type": "markdown",
   "metadata": {},
   "source": [
    "### 문제3"
   ]
  },
  {
   "cell_type": "code",
   "execution_count": null,
   "metadata": {},
   "outputs": [],
   "source": [
    "# 조건문 - 실습 1\n",
    "eng = int(input('영어 점수 입력 :'))\n",
    "math = int(input('수학 점수 입력 :'))\n",
    "\n",
    "if eng >= 40:\n",
    "    if  math >= 40 :\n",
    "        if (eng + math) >= 110 :\n",
    "            print('합격')\n",
    "        else :\n",
    "            print('불합격: 총합 점수 부족')\n",
    "    else :\n",
    "        if (eng + math) >= 110 :\n",
    "            print('불합격: 수학 점수 부족')\n",
    "        else :\n",
    "            print('불합격: 총합 점수 부족')\n",
    "else:\n",
    "    if  math >= 40 :\n",
    "        if (eng + math) >= 110 :\n",
    "            print('불합격: 영어 점수 부족')\n",
    "        else :\n",
    "            print('불합격: 총합 점수 부족')\n",
    "    else:\n",
    "        print('불합격: 총합 점수 부족')"
   ]
  },
  {
   "cell_type": "markdown",
   "metadata": {},
   "source": [
    "### 문제4"
   ]
  },
  {
   "cell_type": "code",
   "execution_count": null,
   "metadata": {},
   "outputs": [],
   "source": [
    "# 조건문 - 실습 2\n",
    "a, b, c = list(map(int, input('세 개의 수를 입력하시오: ').split()))\n",
    "\n",
    "if a > b:\n",
    "    if a > c:\n",
    "        print('가장 큰 수는 %d입니다.' % a)\n",
    "    else :\n",
    "        print('가장 큰 수는 %d입니다.' % c)\n",
    "else:\n",
    "    if b > c:\n",
    "        print('가장 큰 수는 %d입니다.' % b)\n",
    "    else:\n",
    "        print('가장 큰 수는 %d입니다.' % c)"
   ]
  },
  {
   "cell_type": "markdown",
   "metadata": {},
   "source": [
    "## 2. 반복문\n",
    "### 문제1"
   ]
  },
  {
   "cell_type": "code",
   "execution_count": null,
   "metadata": {},
   "outputs": [],
   "source": [
    "# while\n",
    "word = 'Python'\n",
    "count = 0\n",
    "while count < len(word):\n",
    "    print(list(word)[count])\n",
    "    count += 1"
   ]
  },
  {
   "cell_type": "code",
   "execution_count": null,
   "metadata": {},
   "outputs": [],
   "source": [
    "# for\n",
    "word = 'Python'\n",
    "for i in word:\n",
    "    print(i)"
   ]
  },
  {
   "cell_type": "markdown",
   "metadata": {},
   "source": [
    "### 문제2"
   ]
  },
  {
   "cell_type": "code",
   "execution_count": null,
   "metadata": {},
   "outputs": [],
   "source": [
    "for i in range(10, 0, -1):\n",
    "    print('%d,'%i,end=\"\")\n",
    "print('Happy new year!!')"
   ]
  },
  {
   "cell_type": "markdown",
   "metadata": {},
   "source": [
    "### 문제3"
   ]
  },
  {
   "cell_type": "code",
   "execution_count": null,
   "metadata": {},
   "outputs": [],
   "source": [
    "nums = input(\"Enter two integers:\")\n",
    "a, b = list(map(int, nums.split()))\n",
    "sum = 0\n",
    "for i in range(a, b + 1):\n",
    "    sum += i\n",
    "    i += 1\n",
    "print(\"The sum from %d to %d is %d\" %(a, b, sum))"
   ]
  },
  {
   "cell_type": "markdown",
   "metadata": {},
   "source": [
    "### 문제4"
   ]
  },
  {
   "cell_type": "code",
   "execution_count": null,
   "metadata": {},
   "outputs": [],
   "source": [
    "word = 'banana'\n",
    "j = 0\n",
    "for i in word:\n",
    "    if i == 'a':\n",
    "        j += 1\n",
    "print(j)"
   ]
  },
  {
   "cell_type": "markdown",
   "metadata": {},
   "source": [
    "### 문제5"
   ]
  },
  {
   "cell_type": "code",
   "execution_count": null,
   "metadata": {},
   "outputs": [],
   "source": [
    "for i in range(10):\n",
    "    print(i, end=' ')\n",
    "print()\n",
    "for j in range(51):\n",
    "    if (j % 5)== 0 :\n",
    "        print(j, end=' ')\n",
    "print()\n",
    "for k in range(10, 0, -1):\n",
    "    print(k,end=' ')"
   ]
  },
  {
   "cell_type": "markdown",
   "metadata": {},
   "source": [
    "### 문제 6"
   ]
  },
  {
   "cell_type": "code",
   "execution_count": null,
   "metadata": {},
   "outputs": [],
   "source": [
    "colors = [\"red\", \"green\", \"blue\"]\n",
    "for i in colors:\n",
    "    print(i)"
   ]
  },
  {
   "cell_type": "markdown",
   "metadata": {},
   "source": [
    "### 문제7"
   ]
  },
  {
   "cell_type": "code",
   "execution_count": null,
   "metadata": {},
   "outputs": [],
   "source": [
    "a = [1, 3, 4, 5, 6, 7, 8, 9, 10, 11, 12, 13]\n",
    "for i in a:\n",
    "    if i % 2 == 0:\n",
    "        print(i, end=' ')"
   ]
  },
  {
   "cell_type": "markdown",
   "metadata": {},
   "source": [
    "### 문제8"
   ]
  },
  {
   "cell_type": "code",
   "execution_count": null,
   "metadata": {},
   "outputs": [],
   "source": [
    "# 반복문 - 실습 1\n",
    "T = int(input('출력하고 싶은 단을 입력하세요: '))\n",
    "for i in range(1, 10):\n",
    "    print(\"%d * %d = %d\" %(T, i, T * i))"
   ]
  },
  {
   "cell_type": "markdown",
   "metadata": {},
   "source": [
    "### 문제9"
   ]
  },
  {
   "cell_type": "code",
   "execution_count": null,
   "metadata": {},
   "outputs": [],
   "source": [
    "for i in range(2, 10):\n",
    "    print(\"== %d단  ==\" % i)\n",
    "    for j in range(1, 10):\n",
    "        print(\"%d * %d = %d\" %(i, j,i * j))"
   ]
  },
  {
   "cell_type": "markdown",
   "metadata": {},
   "source": [
    "### 문제10"
   ]
  },
  {
   "cell_type": "code",
   "execution_count": null,
   "metadata": {},
   "outputs": [],
   "source": [
    "for i in range(2, 10):\n",
    "    for j in range(1, 10):\n",
    "        print(\"%d * %d = %d \" %(i,j,i * j), end=\"\\t\")"
   ]
  },
  {
   "cell_type": "markdown",
   "metadata": {},
   "source": [
    "### 문제11"
   ]
  },
  {
   "cell_type": "code",
   "execution_count": 1,
   "metadata": {},
   "outputs": [
    {
     "name": "stdout",
     "output_type": "stream",
     "text": [
      "Input an integer: 31599\n",
      "★★★\n",
      "★\n",
      "★★★★★\n",
      "★★★★★★★★★\n",
      "★★★★★★★★★\n"
     ]
    }
   ],
   "source": [
    "# 반복문 1\n",
    "num = input('Input an integer: ')\n",
    "lth = len(num)\n",
    "for i in range(0,lth):\n",
    "    for j in range(0, int(num) % (10 ** (lth-i)) // 10 ** ((lth-i) - 1)): \n",
    "        print('★', end='')\n",
    "    print()\n",
    "    i += 1"
   ]
  },
  {
   "cell_type": "code",
   "execution_count": null,
   "metadata": {},
   "outputs": [],
   "source": [
    "# 반복문 2\n",
    "num = int(input('Input an integer: '))\n",
    "\n",
    "\n",
    "for i in range(int(num) // 1000) : \n",
    "    print('★', end='')\n",
    "print()\n",
    "for i in range((int(num) % 1000) // 100) :\n",
    "    print('★', end='')\n",
    "print()\n",
    "for i in range((int(num) % 100) // 10) :\n",
    "    print('★', end='')\n",
    "print()\n",
    "for i in range(int(num) % 10):\n",
    "    print('★', end='')"
   ]
  },
  {
   "cell_type": "code",
   "execution_count": 4,
   "metadata": {},
   "outputs": [
    {
     "name": "stdout",
     "output_type": "stream",
     "text": [
      "★★★★★\n",
      "★★★★★★★★\n",
      "★★★★\n",
      "★★\n",
      "★★★\n"
     ]
    }
   ],
   "source": [
    "# 반복문 3(조교님)\n",
    "number = \"58423\"\n",
    "for x in number:\n",
    "    print('★'*int(x))"
   ]
  },
  {
   "cell_type": "code",
   "execution_count": 5,
   "metadata": {},
   "outputs": [
    {
     "name": "stdout",
     "output_type": "stream",
     "text": [
      "★★★★★\n",
      "★★★★★★★★\n",
      "★★★★\n",
      "★★\n",
      "★★★\n"
     ]
    }
   ],
   "source": [
    "# 반복문 4(조교님)\n",
    "number = \"58423\"\n",
    "for x in number:\n",
    "    for y in range(int(x)):\n",
    "        print('★', end='')\n",
    "    print()"
   ]
  }
 ],
 "metadata": {
  "kernelspec": {
   "display_name": "Python 3",
   "language": "python",
   "name": "python3"
  },
  "language_info": {
   "codemirror_mode": {
    "name": "ipython",
    "version": 3
   },
   "file_extension": ".py",
   "mimetype": "text/x-python",
   "name": "python",
   "nbconvert_exporter": "python",
   "pygments_lexer": "ipython3",
   "version": "3.8.3"
  }
 },
 "nbformat": 4,
 "nbformat_minor": 4
}

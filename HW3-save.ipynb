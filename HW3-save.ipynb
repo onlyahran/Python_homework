{
 "cells": [
  {
   "cell_type": "markdown",
   "metadata": {},
   "source": [
    "## HW2 "
   ]
  },
  {
   "cell_type": "code",
   "execution_count": 24,
   "metadata": {},
   "outputs": [
    {
     "name": "stdout",
     "output_type": "stream",
     "text": [
      "Enter a number: 9\n",
      "Enter a number: 2\n",
      "Enter a number: 4\n",
      "Enter a number: done\n",
      "[9.0, 2.0, 4.0]\n",
      "Average: 5.0\n",
      "Maximum: 9.0\n",
      "Minimum: 2.0\n"
     ]
    }
   ],
   "source": [
    "# 문제 12\n",
    "lst = list()\n",
    "while (True):\n",
    "    num = input('Enter a number: ')\n",
    "    if num == 'done' :\n",
    "        break\n",
    "    else:\n",
    "        lst.append(float(num))\n",
    "print(lst)\n",
    "print('Average: %.1f' % (sum(lst) / len(lst)))\n",
    "print('Maximum: %s' % max(lst))\n",
    "print('Minimum: %s' % min(lst))"
   ]
  },
  {
   "cell_type": "markdown",
   "metadata": {},
   "source": [
    "## 1. 딕셔너리(dict)"
   ]
  },
  {
   "cell_type": "code",
   "execution_count": 11,
   "metadata": {},
   "outputs": [
    {
     "name": "stdout",
     "output_type": "stream",
     "text": [
      "1 2 10 "
     ]
    }
   ],
   "source": [
    "# 실습1 \n",
    "# value만 출력\n",
    "d = {'youn': 1, 'park': 2, 'kim': 10}\n",
    "\n",
    "for v in d.values():\n",
    "    print(v, end=' ')\n",
    "    \n",
    "#a = list(d.values())\n",
    "#for i in  a:\n",
    "#    print(i, end=' ')"
   ]
  },
  {
   "cell_type": "code",
   "execution_count": null,
   "metadata": {},
   "outputs": [],
   "source": [
    "# 실습2\n",
    "dic = {'one':1,'two':2,'three':3,'four':4,'five':5}\n"
   ]
  },
  {
   "cell_type": "code",
   "execution_count": 20,
   "metadata": {},
   "outputs": [
    {
     "name": "stdout",
     "output_type": "stream",
     "text": [
      "문자열을 입력하시오:life is funnnnnn\n",
      "{'n': 6, 'u': 1, 'f': 2, ' ': 2, 's': 1, 'i': 2, 'e': 1, 'l': 1}\n"
     ]
    }
   ],
   "source": [
    "# 실습3\n",
    "sen = list(input('문자열을 입력하시오:'))\n",
    "\n",
    "sen.reverse()\n",
    "dic = {}\n",
    "for i in sen: # 반복되는 문자에 대해 '모두' 실행함\n",
    "    dic[i] = sen.count(i)\n",
    "print(dic)"
   ]
  },
  {
   "cell_type": "code",
   "execution_count": 22,
   "metadata": {},
   "outputs": [
    {
     "ename": "KeyError",
     "evalue": "'l'",
     "output_type": "error",
     "traceback": [
      "\u001b[0;31m---------------------------------------------------------------------------\u001b[0m",
      "\u001b[0;31mKeyError\u001b[0m                                  Traceback (most recent call last)",
      "\u001b[0;32m<ipython-input-22-a37934854cbd>\u001b[0m in \u001b[0;36m<module>\u001b[0;34m\u001b[0m\n\u001b[1;32m      4\u001b[0m \u001b[0;32mfor\u001b[0m \u001b[0mch\u001b[0m \u001b[0;32min\u001b[0m \u001b[0msen\u001b[0m\u001b[0;34m:\u001b[0m\u001b[0;34m\u001b[0m\u001b[0;34m\u001b[0m\u001b[0m\n\u001b[1;32m      5\u001b[0m     \u001b[0;32mif\u001b[0m \u001b[0mch\u001b[0m \u001b[0;32min\u001b[0m \u001b[0msen\u001b[0m\u001b[0;34m:\u001b[0m\u001b[0;34m\u001b[0m\u001b[0;34m\u001b[0m\u001b[0m\n\u001b[0;32m----> 6\u001b[0;31m         \u001b[0md\u001b[0m\u001b[0;34m[\u001b[0m\u001b[0mch\u001b[0m\u001b[0;34m]\u001b[0m \u001b[0;34m+=\u001b[0m \u001b[0;36m1\u001b[0m\u001b[0;34m\u001b[0m\u001b[0;34m\u001b[0m\u001b[0m\n\u001b[0m\u001b[1;32m      7\u001b[0m     \u001b[0;32melse\u001b[0m\u001b[0;34m:\u001b[0m\u001b[0;34m\u001b[0m\u001b[0;34m\u001b[0m\u001b[0m\n\u001b[1;32m      8\u001b[0m         \u001b[0md\u001b[0m\u001b[0;34m[\u001b[0m\u001b[0mch\u001b[0m\u001b[0;34m]\u001b[0m \u001b[0;34m=\u001b[0m \u001b[0;36m1\u001b[0m\u001b[0;34m\u001b[0m\u001b[0;34m\u001b[0m\u001b[0m\n",
      "\u001b[0;31mKeyError\u001b[0m: 'l'"
     ]
    }
   ],
   "source": [
    "# 실습3 - 1\n",
    "sen = \"life is funnnnnn\"\n",
    "d = dict()\n",
    "for ch in sen:\n",
    "    if ch in sen:\n",
    "        d[ch] += 1 \n",
    "    else:\n",
    "        d[ch] = 1\n",
    "print(d)"
   ]
  },
  {
   "cell_type": "code",
   "execution_count": 16,
   "metadata": {},
   "outputs": [
    {
     "name": "stdout",
     "output_type": "stream",
     "text": [
      "{'n': 6, 'e': 1, 's': 1, 'l': 1, 'u': 1, ' ': 2, 'f': 2, 'i': 2}\n"
     ]
    }
   ],
   "source": [
    "# 실습3 - 2\n",
    "sen = \"life is funnnnnn\"\n",
    "d = {}\n",
    "sen_set = set(sen) # 반복되는 문자에 대해 '1번만' 실행함 > 효율적\n",
    "for ch in sen_set:\n",
    "    d[ch] = sen.count(ch)\n",
    "print(d)"
   ]
  },
  {
   "cell_type": "code",
   "execution_count": 13,
   "metadata": {},
   "outputs": [
    {
     "data": {
      "text/plain": [
       "'life is fun'"
      ]
     },
     "execution_count": 13,
     "metadata": {},
     "output_type": "execute_result"
    }
   ],
   "source": []
  }
 ],
 "metadata": {
  "kernelspec": {
   "display_name": "Python 3",
   "language": "python",
   "name": "python3"
  },
  "language_info": {
   "codemirror_mode": {
    "name": "ipython",
    "version": 3
   },
   "file_extension": ".py",
   "mimetype": "text/x-python",
   "name": "python",
   "nbconvert_exporter": "python",
   "pygments_lexer": "ipython3",
   "version": "3.8.3"
  }
 },
 "nbformat": 4,
 "nbformat_minor": 4
}

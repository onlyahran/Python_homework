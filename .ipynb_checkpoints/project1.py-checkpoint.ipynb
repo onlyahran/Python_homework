{
 "cells": [
  {
   "cell_type": "code",
   "execution_count": 37,
   "metadata": {},
   "outputs": [
    {
     "name": "stdout",
     "output_type": "stream",
     "text": [
      "   Student\t         Name\t Midterm\t Final\t Average\t Grade\n",
      "--------------------------------------------------------------------\n",
      "[('20180001', ['Hong Gildong', 84, 73, 78.5, 'C']), ('20180002', ['Lee Jieun', 92, 89, 90.5, 'A']), ('20180007', ['Kim Cheolsu', 57, 62, 59.5, 'F']), ('20180009', ['Lee Yeonghee', 81, 84, 82.5, 'B']), ('20180011', ['Ha Donghun', 58, 68, 63.0, 'D'])]\n"
     ]
    }
   ],
   "source": [
    "# 계산\n",
    "def GradeCalculation(mid, final):\n",
    "\n",
    "    avrg = (mid + final) / 2.0\n",
    "\n",
    "    if avrg >= 90:\n",
    "        grade = 'A'\n",
    "    elif avrg >= 80 and avrg < 90:\n",
    "        grade = 'B'\n",
    "    elif avrg >= 70 and avrg < 80:\n",
    "        grade = 'C'\n",
    "    elif avrg >= 60 and avrg < 70:\n",
    "        grade = 'D'\n",
    "    else:\n",
    "        grade = 'F'\n",
    "\n",
    "    return avrg, grade\n",
    "\n",
    "\n",
    "# 명령어\n",
    "def show(dic):\n",
    "    print('%10s\\t %12s\\t %7s\\t %s\\t %s\\t %s' % ('Student', 'Name', 'Midterm', 'Final', 'Average', 'Grade'))\n",
    "    print('--------------------------------------------------------------------')\n",
    "    #for k, v in dic.items():\n",
    "     #   print('%10s\\t %12s\\t %5d\\t\\t %4d\\t %6.1f\\t\\t %3s\\n' % (k, v[0], v[1], v[2], v[3], v[4]))\n",
    "    sorted_lst = sorted(dic.items(), key = lambda x: x[0][3])\n",
    "    print(sorted_lst)\n",
    "\n",
    "\n",
    "# def search(stu_num):\n",
    "#     if stu_num in dic.keys:\n",
    "#         print(dic[stu_num])\n",
    "#     else:\n",
    "#         print(\"No Such Person\")\n",
    "\n",
    "# def changescore(stu_num):\n",
    "#     if stu_num in dic.keys:\n",
    "\n",
    "\n",
    "# 메인\n",
    "stu_dic = {}\n",
    "with open(\"students.txt\", \"r\") as fr:\n",
    "    for line in fr:\n",
    "        info = line.split('\\t')\n",
    "\n",
    "        stnum = info[0]\n",
    "        name = info[1]\n",
    "        mid = int(info[2])\n",
    "        fin = int(info[3].strip('\\n'))\n",
    "\n",
    "        # 학번이 key, 나머지를 value로 dictionary로 저장\n",
    "        stu_dic[stnum] = [name, mid, fin]\n",
    "\n",
    "        # 평균, 학점 계산 후 value로 추가\n",
    "        avrg, grade = GradeCalculation(mid, fin)\n",
    "        stu_dic[stnum].append(float(avrg))\n",
    "        stu_dic[stnum].append(grade)\n",
    "    show(stu_dic)\n",
    "\n",
    "#     ## 명령어 입력받아 처리\n",
    "#     choice = ???\n",
    "#     while choice != '':\n",
    "#         choice = int(input())\n",
    "#         if choice == 'show':\n",
    "#             show(stu_dic)\n",
    "#         elif choice == 'search':\n",
    "#             search(stnum)\n",
    "#         elif choice == 'changescore':\n",
    "#             changescore(stnum)\n",
    "#         elif choice == 'searchgrade':\n",
    "#             searchgrade(grade)\n",
    "#         elif choice == 'add':\n",
    "#             add(stnum)\n",
    "#         elif choice == 'remove':\n",
    "#             remove(stnum)\n",
    "#         elif choice == 'quit':\n",
    "#             quit()\n",
    "#         else:\n",
    "#             continue # 지정 외 명령어 입력시 while문 다시 돌기\n",
    "\n"
   ]
  },
  {
   "cell_type": "code",
   "execution_count": null,
   "metadata": {},
   "outputs": [],
   "source": [
    "mydic = {}\n",
    "mydic['아란'] = ['여자']\n",
    "mydic['아란'] = [29]\n",
    "print(mydic)"
   ]
  },
  {
   "cell_type": "code",
   "execution_count": null,
   "metadata": {},
   "outputs": [],
   "source": [
    "        for line in fr:\n",
    "            info = line.split('\\t')\n",
    "            print(info)\n",
    "            stu_dic[info[0]] = [info[1], int(info[2]), int(info[3].strip('\\n'))]\n",
    "        print(stu_dic)     "
   ]
  },
  {
   "cell_type": "code",
   "execution_count": null,
   "metadata": {},
   "outputs": [],
   "source": [
    "# 명령어 선택처리 함수로 구현\n",
    "def switch(command):\n",
    "    command = {\n",
    "        'show':show(stu_dic),\n",
    "        'search':search(stnum),\n",
    "        'changescore':changescore(stnum),\n",
    "        'searchgrade':searchgrade(grade),\n",
    "        'add':add(stnum),\n",
    "        'remove':remove(stnum)\n",
    "    }\n",
    "    "
   ]
  },
  {
   "cell_type": "code",
   "execution_count": null,
   "metadata": {},
   "outputs": [],
   "source": []
  },
  {
   "cell_type": "code",
   "execution_count": null,
   "metadata": {},
   "outputs": [],
   "source": []
  },
  {
   "cell_type": "code",
   "execution_count": null,
   "metadata": {},
   "outputs": [],
   "source": []
  },
  {
   "cell_type": "code",
   "execution_count": null,
   "metadata": {},
   "outputs": [],
   "source": []
  },
  {
   "cell_type": "code",
   "execution_count": null,
   "metadata": {},
   "outputs": [],
   "source": []
  }
 ],
 "metadata": {
  "kernelspec": {
   "display_name": "Python 3",
   "language": "python",
   "name": "python3"
  },
  "language_info": {
   "codemirror_mode": {
    "name": "ipython",
    "version": 3
   },
   "file_extension": ".py",
   "mimetype": "text/x-python",
   "name": "python",
   "nbconvert_exporter": "python",
   "pygments_lexer": "ipython3",
   "version": "3.7.6"
  }
 },
 "nbformat": 4,
 "nbformat_minor": 4
}

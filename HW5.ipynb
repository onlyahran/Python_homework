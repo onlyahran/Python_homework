{
 "cells": [
  {
   "cell_type": "code",
   "execution_count": 44,
   "metadata": {},
   "outputs": [],
   "source": [
    "# Python의 기본 자료구조 Set을 구현하라\n",
    "\n",
    "class Set: \n",
    "        \n",
    "    def __init__(self, mylst = []): # 매개변수가 없으면 빈집합 상태로 생성        \n",
    "        self.mylst = mylst        \n",
    "        # list 받아 중복 제거\n",
    "        newlst = []\n",
    "        for i in self.mylst:\n",
    "            if i not in newlst:\n",
    "                newlst.append(i)\n",
    "       \n",
    "    def add(self, elem):\n",
    "        # Set에 elem이 존재하지 않으면 추가\n",
    "        if elem not in self.mylst:\n",
    "            self.mylst.append(elem)\n",
    "    \n",
    "    def discard(self, elem):\n",
    "        # Set에 elem이 존재하면 삭제\n",
    "        if elem in self.mylst:\n",
    "            del elem\n",
    "            \n",
    "    def clear(self):\n",
    "        self.mylst = []\n",
    "        #return self.mylst\n",
    "    \n",
    "    def __len__(self):\n",
    "        length = len(self.mylst)\n",
    "        # return length\n",
    "    \n",
    "    def __str__(self):\n",
    "        to_str_lst = list(map(str, self.mylst))\n",
    "        return '{' + ','.join(to_str_lst) + '}'\n",
    "        \n",
    "    def __contains__(self, elem):\n",
    "        if elem in self.mylst:\n",
    "            return True\n",
    "        else:\n",
    "            return False\n",
    "    \n",
    "#     def partof_other(self):\n",
    "        \n",
    "#         other = []\n",
    "#         for i in range(1, len(self.mylst)+1):\n",
    "#             other.append(self.mylst[i])\n",
    "#         for i in self.mylst\n",
    "        \n",
    "#         if self.mylst == []: # 공집합도 부분집합\n",
    "#             True\n",
    "        \n",
    "        \n",
    "#     self <= other\n",
    "    \n",
    "#     self >= other\n",
    "    \n",
    "#     def union(self):     \n",
    "#     self | other\n",
    "    \n",
    "#     def intersection():\n",
    "#     self & other\n",
    "    \n",
    "#     def diff():\n",
    "#     self - other\n",
    "    \n",
    "        \n",
    "                "
   ]
  },
  {
   "cell_type": "code",
   "execution_count": 45,
   "metadata": {},
   "outputs": [],
   "source": [
    "myset = Set([1,2,3,4])"
   ]
  },
  {
   "cell_type": "code",
   "execution_count": 46,
   "metadata": {},
   "outputs": [
    {
     "name": "stdout",
     "output_type": "stream",
     "text": [
      "{1,2,3,4}\n"
     ]
    }
   ],
   "source": [
    "print(myset)"
   ]
  },
  {
   "cell_type": "code",
   "execution_count": 47,
   "metadata": {},
   "outputs": [
    {
     "data": {
      "text/plain": [
       "__main__.Set"
      ]
     },
     "execution_count": 47,
     "metadata": {},
     "output_type": "execute_result"
    }
   ],
   "source": [
    "type(myset)"
   ]
  },
  {
   "cell_type": "code",
   "execution_count": 26,
   "metadata": {},
   "outputs": [
    {
     "ename": "TypeError",
     "evalue": "bad operand type for unary +: 'str'",
     "output_type": "error",
     "traceback": [
      "\u001b[0;31m---------------------------------------------------------------------------\u001b[0m",
      "\u001b[0;31mTypeError\u001b[0m                                 Traceback (most recent call last)",
      "\u001b[0;32m<ipython-input-26-7da9d0646128>\u001b[0m in \u001b[0;36m<module>\u001b[0;34m\u001b[0m\n\u001b[1;32m      1\u001b[0m \u001b[0mto_str\u001b[0m \u001b[0;34m=\u001b[0m \u001b[0mstr\u001b[0m\u001b[0;34m(\u001b[0m\u001b[0;34m)\u001b[0m\u001b[0;34m\u001b[0m\u001b[0;34m\u001b[0m\u001b[0m\n\u001b[1;32m      2\u001b[0m \u001b[0;32mfor\u001b[0m \u001b[0mi\u001b[0m \u001b[0;32min\u001b[0m \u001b[0mmylst\u001b[0m\u001b[0;34m:\u001b[0m\u001b[0;34m\u001b[0m\u001b[0;34m\u001b[0m\u001b[0m\n\u001b[0;32m----> 3\u001b[0;31m     \u001b[0mto_str\u001b[0m \u001b[0;34m=\u001b[0m\u001b[0;34m+\u001b[0m \u001b[0mi\u001b[0m\u001b[0;34m\u001b[0m\u001b[0;34m\u001b[0m\u001b[0m\n\u001b[0m\u001b[1;32m      4\u001b[0m \u001b[0mprint\u001b[0m\u001b[0;34m(\u001b[0m\u001b[0mto_str\u001b[0m\u001b[0;34m)\u001b[0m\u001b[0;34m\u001b[0m\u001b[0;34m\u001b[0m\u001b[0m\n",
      "\u001b[0;31mTypeError\u001b[0m: bad operand type for unary +: 'str'"
     ]
    }
   ],
   "source": [
    "to_str = str()\n",
    "for i in mylst:\n",
    "    to_str =+ i\n",
    "print(to_str)"
   ]
  },
  {
   "cell_type": "code",
   "execution_count": 24,
   "metadata": {},
   "outputs": [],
   "source": [
    "newstr=str()\n",
    "for i in to_str_lst:\n",
    "    newstr += i"
   ]
  },
  {
   "cell_type": "code",
   "execution_count": 25,
   "metadata": {},
   "outputs": [
    {
     "name": "stdout",
     "output_type": "stream",
     "text": [
      "['{', 'Hello', ',', '1', ',', '333', ',', '3', '}']\n"
     ]
    }
   ],
   "source": [
    "print(newstr)"
   ]
  },
  {
   "cell_type": "code",
   "execution_count": null,
   "metadata": {},
   "outputs": [],
   "source": []
  }
 ],
 "metadata": {
  "kernelspec": {
   "display_name": "Python 3",
   "language": "python",
   "name": "python3"
  },
  "language_info": {
   "codemirror_mode": {
    "name": "ipython",
    "version": 3
   },
   "file_extension": ".py",
   "mimetype": "text/x-python",
   "name": "python",
   "nbconvert_exporter": "python",
   "pygments_lexer": "ipython3",
   "version": "3.8.3"
  }
 },
 "nbformat": 4,
 "nbformat_minor": 4
}

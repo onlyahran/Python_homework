{
 "cells": [
  {
   "cell_type": "code",
   "execution_count": 58,
   "metadata": {},
   "outputs": [],
   "source": [
    "def main():\n",
    "    \n",
    "    stu_dic = {}\n",
    "    with open(\"students.txt\",\"r\") as fr:\n",
    "        \n",
    "        for line in fr:\n",
    "            info = line.split('\\t')\n",
    "            print(info)\n",
    "            stu_dic[info[0]] = [info[1], int(info[2]), int(info[3].strip('\\n'))]\n",
    "        print(stu_dic)\n",
    "        \n",
    "        def Gradecalcul"
   ]
  },
  {
   "cell_type": "code",
   "execution_count": 59,
   "metadata": {},
   "outputs": [
    {
     "name": "stdout",
     "output_type": "stream",
     "text": [
      "['20180001', 'Hong Gildong', '84', '73\\n']\n",
      "['20180002', 'Lee Jieun', '92', '89\\n']\n",
      "['20180007', 'Kim Cheolsu', '57', '62\\n']\n",
      "['20180009', 'Lee Yeonghee', '81', '84\\n']\n",
      "['20180011', 'Ha Donghun', '58', '68\\n']\n",
      "{'20180001': ['Hong Gildong', 84, 73], '20180002': ['Lee Jieun', 92, 89], '20180007': ['Kim Cheolsu', 57, 62], '20180009': ['Lee Yeonghee', 81, 84], '20180011': ['Ha Donghun', 58, 68]}\n"
     ]
    }
   ],
   "source": [
    "main()"
   ]
  },
  {
   "cell_type": "code",
   "execution_count": null,
   "metadata": {},
   "outputs": [],
   "source": []
  },
  {
   "cell_type": "code",
   "execution_count": null,
   "metadata": {},
   "outputs": [],
   "source": []
  }
 ],
 "metadata": {
  "kernelspec": {
   "display_name": "Python 3",
   "language": "python",
   "name": "python3"
  },
  "language_info": {
   "codemirror_mode": {
    "name": "ipython",
    "version": 3
   },
   "file_extension": ".py",
   "mimetype": "text/x-python",
   "name": "python",
   "nbconvert_exporter": "python",
   "pygments_lexer": "ipython3",
   "version": "3.8.3"
  }
 },
 "nbformat": 4,
 "nbformat_minor": 4
}

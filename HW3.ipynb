{
 "cells": [
  {
   "cell_type": "markdown",
   "metadata": {},
   "source": [
    "## HW2 "
   ]
  },
  {
   "cell_type": "code",
   "execution_count": null,
   "metadata": {},
   "outputs": [],
   "source": [
    "# 문제 12\n",
    "lst = list()\n",
    "while (True):\n",
    "    num = input('Enter a number: ')\n",
    "    if num == 'done' :\n",
    "        break\n",
    "    else:\n",
    "        lst.append(float(num))\n",
    "print(lst)\n",
    "print('Average: %.1f' % (sum(lst) / len(lst)))\n",
    "print('Maximum: %s' % max(lst))\n",
    "print('Minimum: %s' % min(lst))"
   ]
  },
  {
   "cell_type": "markdown",
   "metadata": {},
   "source": [
    "## 1. 딕셔너리(dict)"
   ]
  },
  {
   "cell_type": "code",
   "execution_count": null,
   "metadata": {},
   "outputs": [],
   "source": [
    "# 실습1 \n",
    "# value만 출력\n",
    "d = {'youn': 1, 'park': 2, 'kim': 10}\n",
    "\n",
    "for v in d.values():\n",
    "    print(v, end=' ')\n",
    "    \n",
    "#a = list(d.values())\n",
    "#for i in  a:\n",
    "#    print(i, end=' ')"
   ]
  },
  {
   "cell_type": "code",
   "execution_count": null,
   "metadata": {},
   "outputs": [],
   "source": [
    "# 실습2\n",
    "dic = {'one':1,'two':2,'three':3,'four':4,'five':5}\n",
    "for items in sorted(dic.items()):\n",
    "    x, y = items\n",
    "    print(x, y)"
   ]
  },
  {
   "cell_type": "code",
   "execution_count": null,
   "metadata": {},
   "outputs": [],
   "source": [
    "# 실습3\n",
    "sen = list(input('문자열을 입력하시오:'))\n",
    "sen.reverse()\n",
    "dic = {}\n",
    "#\n",
    "for i in sen: # 반복되는 문자에 대해 '한번' 실행함\n",
    "    dic[i] = sen.count(i)\n",
    "print(dic)"
   ]
  },
  {
   "cell_type": "markdown",
   "metadata": {},
   "source": [
    "## 1.파일"
   ]
  },
  {
   "cell_type": "code",
   "execution_count": null,
   "metadata": {},
   "outputs": [],
   "source": [
    "# 실습1\n",
    "r = open('text.txt', 'r')\n",
    "d={}\n",
    "lst = []\n",
    "while (True) :\n",
    "    line = r.readline()\n",
    "    if line == '':\n",
    "        break\n",
    "    a = line.split()\n",
    "    lst.append(a)\n",
    "\n",
    "for k, v in lst:\n",
    "    if k in d:\n",
    "        d[k] += 1\n",
    "    else:\n",
    "        d[k] = 1\n",
    "    if v in d:\n",
    "        d[v] += 1\n",
    "    else:\n",
    "        d[v] = 1\n",
    "\n",
    "for items in d.items():\n",
    "    x, y = items\n",
    "    print(x, y)"
   ]
  },
  {
   "cell_type": "code",
   "execution_count": null,
   "metadata": {},
   "outputs": [],
   "source": [
    "# 실습4\n",
    "fr = open('score.txt', 'r')\n",
    "\n",
    "def Score(s) :\n",
    "    if s >= 90 :\n",
    "        return 'A'\n",
    "    elif s >= 80 and s < 90 :\n",
    "        return 'B'\n",
    "    elif s >= 70 and s < 80 :\n",
    "        return 'C'\n",
    "    elif s >= 60 and s < 70 :\n",
    "        return 'D'\n",
    "    else:\n",
    "        return 'F'\n",
    "    \n",
    "def TotalSum(x, y):\n",
    "    x = x * 0.4\n",
    "    y = y * 0.6\n",
    "    return x + y\n",
    "\n",
    "lst=[]\n",
    "while (True):\n",
    "    line = fr.readline()\n",
    "    if line == '':\n",
    "        break \n",
    "    line_sp = list(map(int, line.split()))\n",
    "    # stunum, mid, fin = line_sp\n",
    "    lst.append(line_sp)\n",
    "\n",
    "fw = open(\"report.txt\", \"w\")\n",
    "for i in range(len(lst)):\n",
    "    data = \"%d %d %d  %d(%s)\\n\" % (lst[i][0], lst[i][1], lst[i][2], TotalSum(lst[i][1], lst[i][2]),Score(TotalSum(lst[i][1], lst[i][2])))\n",
    "    fw.write(data)\n",
    "fw.close()"
   ]
  }
 ],
 "metadata": {
  "kernelspec": {
   "display_name": "Python 3",
   "language": "python",
   "name": "python3"
  },
  "language_info": {
   "codemirror_mode": {
    "name": "ipython",
    "version": 3
   },
   "file_extension": ".py",
   "mimetype": "text/x-python",
   "name": "python",
   "nbconvert_exporter": "python",
   "pygments_lexer": "ipython3",
   "version": "3.8.3"
  }
 },
 "nbformat": 4,
 "nbformat_minor": 4
}

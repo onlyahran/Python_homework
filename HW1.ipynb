{
 "cells": [
  {
   "cell_type": "markdown",
   "metadata": {},
   "source": [
    "### 연습문제 1"
   ]
  },
  {
   "cell_type": "code",
   "execution_count": null,
   "metadata": {},
   "outputs": [],
   "source": [
    "F = float(input('화씨온도 : '))\n",
    "print('섭씨온도 :', (F - 32) * 5 / 9)"
   ]
  },
  {
   "cell_type": "markdown",
   "metadata": {},
   "source": [
    "### 연습문제 2"
   ]
  },
  {
   "cell_type": "code",
   "execution_count": 2,
   "metadata": {},
   "outputs": [
    {
     "name": "stdout",
     "output_type": "stream",
     "text": [
      "투입한돈 :5000\n",
      "물건값 :2300\n",
      "거스름돈 :  2700\n",
      "500원짜리 : 5개\n",
      "100원짜리 : 2개\n"
     ]
    }
   ],
   "source": [
    "put = int(input('투입한돈 :'))\n",
    "price = int(input('물건값 :'))\n",
    "left = put - price\n",
    "print('거스름돈 : ', left)\n",
    "print('500원짜리 : %d%s' %(left // 500, '개'))\n",
    "print('100원짜리 : %d%s' %((left - (left // 500) * 500) // 100, '개'))"
   ]
  },
  {
   "cell_type": "markdown",
   "metadata": {},
   "source": [
    "### 연습문제 3"
   ]
  },
  {
   "cell_type": "code",
   "execution_count": null,
   "metadata": {},
   "outputs": [],
   "source": [
    "r = int(input('반지름을 입력하시오 :'))\n",
    "circum = 2 * 3.141592 * r\n",
    "area = 3.141592 * r ** 2\n",
    "print('원둘레 : %.2f' circum)\n",
    "print('원넓이 : %.2f' area)"
   ]
  },
  {
   "cell_type": "markdown",
   "metadata": {},
   "source": [
    "### 연습문제 4"
   ]
  },
  {
   "cell_type": "code",
   "execution_count": 23,
   "metadata": {},
   "outputs": [
    {
     "name": "stdout",
     "output_type": "stream",
     "text": [
      "Enter two integers :70 90\n",
      "The sum of 70 and 90 is 160\n",
      "The average of numbers is 80.0\n"
     ]
    }
   ],
   "source": [
    "a, b = input('Enter two integers :').split()\n",
    "a = int(a)\n",
    "b = int(b)\n",
    "print('The sum of %d and %d is %d' %(a, b, a + b))\n",
    "print('The average of numbers is %.1f' %((a + b)/2))"
   ]
  },
  {
   "cell_type": "markdown",
   "metadata": {},
   "source": [
    "### 연습문제 5"
   ]
  },
  {
   "cell_type": "code",
   "execution_count": 32,
   "metadata": {},
   "outputs": [
    {
     "name": "stdout",
     "output_type": "stream",
     "text": [
      "Enter two integers :70 90\n",
      "70 + 90 = 160\n",
      "70 - 90 = -20\n",
      "70 * 90 = 6300\n",
      "70 / 90 = 0\n",
      "70 % 90 = 70\n"
     ]
    }
   ],
   "source": [
    "a, b = input('Enter two integers :').split()\n",
    "a = int(a)\n",
    "b = int(b)\n",
    "print('%d + %d = %d' %(a, b, a+b))\n",
    "print('%d - %d = %d' %(a, b, a-b))\n",
    "print('%d * %d = %d' %(a, b, a*b))\n",
    "print('%d / %d = %d' %(a, b, a/b))\n",
    "print('%d %% %d = %d' %(a, b, a%b))"
   ]
  }
 ],
 "metadata": {
  "kernelspec": {
   "display_name": "Python 3",
   "language": "python",
   "name": "python3"
  },
  "language_info": {
   "codemirror_mode": {
    "name": "ipython",
    "version": 3
   },
   "file_extension": ".py",
   "mimetype": "text/x-python",
   "name": "python",
   "nbconvert_exporter": "python",
   "pygments_lexer": "ipython3",
   "version": "3.8.3"
  }
 },
 "nbformat": 4,
 "nbformat_minor": 4
}

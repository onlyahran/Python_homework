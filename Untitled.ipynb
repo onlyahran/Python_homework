{
 "cells": [
  {
   "cell_type": "code",
   "execution_count": 23,
   "metadata": {},
   "outputs": [
    {
     "name": "stdout",
     "output_type": "stream",
     "text": [
      "20180001\tHong Gildong\t84\t73\n",
      "\n",
      "20180002\tLee Jieun\t92\t89\n",
      "\n",
      "20180007\tKim Cheolsu\t57\t62\n",
      "\n",
      "20180009\tLee Yeonghee\t81\t84\n",
      "\n",
      "20180011\tHa Donghun\t58\t68\n",
      "\n",
      "------------------------------------\n",
      " Student\t        Name Midterm\t Final\n"
     ]
    }
   ],
   "source": [
    "with open(\"students.txt\",\"r\") as fr:\n",
    "\n",
    "    for line in fr:\n",
    "        print(line)\n",
    "    \n",
    "    print('------------------------------------')\n",
    "    \n",
    "    print('%8s\\t %11s %s\\t %s' % ('Student', 'Name', 'Midterm', 'Final'))\n"
   ]
  },
  {
   "cell_type": "code",
   "execution_count": 33,
   "metadata": {},
   "outputs": [
    {
     "name": "stdout",
     "output_type": "stream",
     "text": [
      "Hong Gildong\n",
      "Lee Jieun\n",
      "Kim Cheolsu\n",
      "Lee Yeonghee\n",
      "Ha Donghun\n"
     ]
    }
   ],
   "source": [
    "stu_dic={}\n",
    "with open(\"students.txt\",\"r\") as fr:\n",
    "\n",
    "    for line in fr:\n",
    "        info = line.split('\\t')\n",
    "\n",
    "        stnum = info[0]\n",
    "        name = info[1]\n",
    "        mid = int(info[2])\n",
    "        fin = int(info[3].strip('\\n'))\n",
    "        \n",
    "        # 학번이 key, 나머지를 value로 dictionary로 저장\n",
    "        stu_dic[stnum] = [name, mid, fin]\n",
    "        \n",
    "    for k, v in stu_dic.items():\n",
    "        print('%s' %v[0])"
   ]
  },
  {
   "cell_type": "code",
   "execution_count": null,
   "metadata": {},
   "outputs": [],
   "source": []
  }
 ],
 "metadata": {
  "kernelspec": {
   "display_name": "Python 3",
   "language": "python",
   "name": "python3"
  },
  "language_info": {
   "codemirror_mode": {
    "name": "ipython",
    "version": 3
   },
   "file_extension": ".py",
   "mimetype": "text/x-python",
   "name": "python",
   "nbconvert_exporter": "python",
   "pygments_lexer": "ipython3",
   "version": "3.7.6"
  }
 },
 "nbformat": 4,
 "nbformat_minor": 4
}
